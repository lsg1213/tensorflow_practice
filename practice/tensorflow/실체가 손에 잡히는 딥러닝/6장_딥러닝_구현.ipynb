{
 "cells": [
  {
   "cell_type": "code",
   "execution_count": 1,
   "metadata": {},
   "outputs": [],
   "source": [
    "import numpy as np"
   ]
  },
  {
   "cell_type": "markdown",
   "metadata": {},
   "source": [
    "# 데이터 전처리"
   ]
  },
  {
   "cell_type": "markdown",
   "metadata": {},
   "source": [
    "## 정규화"
   ]
  },
  {
   "cell_type": "code",
   "execution_count": 2,
   "metadata": {},
   "outputs": [],
   "source": [
    "def normalize(x):\n",
    "    x_max = np.max(x)\n",
    "    x_min = np.min(x)\n",
    "    return (x - x_min) / (x_max - x_min)"
   ]
  },
  {
   "cell_type": "markdown",
   "metadata": {},
   "source": [
    "## 표준화"
   ]
  },
  {
   "cell_type": "code",
   "execution_count": 3,
   "metadata": {},
   "outputs": [],
   "source": [
    "def standardize(x):\n",
    "    ave = np.average(x)\n",
    "    std = np.std(x)\n",
    "    return (x - ave) / std"
   ]
  },
  {
   "cell_type": "markdown",
   "metadata": {},
   "source": [
    "## 무상관화"
   ]
  },
  {
   "cell_type": "markdown",
   "metadata": {},
   "source": [
    "데이터의 각 성분이 관계를 갖고 있는 경우, 이 관계성을 제거하는 것.\n",
    "예를 들어 위도와 해발고도, 평균 기온 등은 각 데이터 간에는 특별한 관계성이 있는데, 이를 무상관화를 통해 관계성이 제거된 데이터로 변환시킬 수 있다."
   ]
  },
  {
   "cell_type": "markdown",
   "metadata": {},
   "source": [
    "## 드랍아웃(dropout)"
   ]
  },
  {
   "cell_type": "markdown",
   "metadata": {},
   "source": [
    "출력층 이외의 뉴런을 일정한 확률로 무작위 제거하는 방법으로 제거되는 뉴런은 가중치와 편향을 수정할 때마다 바뀐다. 층의 뉴런이 제거되지 않고 남을 확률을 p라고 하면 은닉층은 p=0.5, 입력층은 p=0.8~0.9의 값이 많이 사용된다. 구현이 쉽고 overfit 방지하는 데에 큰 효과가 있다."
   ]
  },
  {
   "cell_type": "markdown",
   "metadata": {},
   "source": [
    "# 예제 붓꽃 품종 분류"
   ]
  },
  {
   "cell_type": "markdown",
   "metadata": {},
   "source": [
    "- 은닉층의 활성화 함수: ReLU\n",
    "- 출력층의 활성화 함수: 소프트맥스 함수\n",
    "- 손실 함수: 교차 엔트로피 오차\n",
    "- 최적화 알고리즘: 확률적 경사 하강법\n",
    "- 배치 사이즈: 8\n",
    "- 은닉층의 뉴런 수: 25"
   ]
  },
  {
   "cell_type": "code",
   "execution_count": 20,
   "metadata": {
    "scrolled": true
   },
   "outputs": [
    {
     "name": "stdout",
     "output_type": "stream",
     "text": [
      "Epoch:0/1000 Error_train:1.0954048545075348 Error_test:1.091370031328148\n",
      "Epoch:100/1000 Error_train:0.17221056125802148 Error_test:0.10448118703646637\n",
      "Epoch:200/1000 Error_train:0.07679165812618274 Error_test:0.06757807436560137\n",
      "Epoch:300/1000 Error_train:0.05623229093371445 Error_test:0.07178708806525302\n",
      "Epoch:400/1000 Error_train:0.03998539466916879 Error_test:0.06803463198278623\n",
      "Epoch:500/1000 Error_train:0.03204706421154754 Error_test:0.08076281297611662\n",
      "Epoch:600/1000 Error_train:0.03170480417155741 Error_test:0.08146123229477412\n",
      "Epoch:700/1000 Error_train:0.015857168735052343 Error_test:0.08962386205590694\n",
      "Epoch:800/1000 Error_train:0.011344852279943725 Error_test:0.09989964707635991\n",
      "Epoch:900/1000 Error_train:0.022792341496070005 Error_test:0.10220828862873013\n"
     ]
    },
    {
     "data": {
      "image/png": "[encoded data removed]",
      "text/plain": [
       "<Figure size 432x288 with 1 Axes>"
      ]
     },
     "metadata": {
      "needs_background": "light"
     },
     "output_type": "display_data"
    },
    {
     "name": "stdout",
     "output_type": "stream",
     "text": [
      "Accuracy Train: 100.0% Accuracy Test: 97.33333333333334%\n"
     ]
    }
   ],
   "source": [
    "from sklearn import datasets\n",
    "import numpy as np\n",
    "import matplotlib.pyplot as plt\n",
    "\n",
    "iris_data = datasets.load_iris()\n",
    "input_data = iris_data.data\n",
    "correct = iris_data.target\n",
    "n_data = len(correct)\n",
    "\n",
    "ave_input = np.average(input_data, axis=0)\n",
    "std_input = np.std(input_data, axis=0)\n",
    "input_data = (input_data - ave_input) / std_input\n",
    "\n",
    "correct_data = np.zeros((n_data,3))\n",
    "for i in range(n_data):\n",
    "    correct_data[i, correct[i]] = 1.0\n",
    "index = np.arange(n_data)\n",
    "index_train = index[index%2 == 0]\n",
    "index_test = index[index%2 != 0]\n",
    "\n",
    "input_train = input_data[index_train,:]\n",
    "correct_train = correct_data[index_train,:]\n",
    "input_test = input_data[index_test,:]\n",
    "correct_test = correct_data[index_test,:]\n",
    "\n",
    "n_train = input_train.shape[0]\n",
    "n_test = input_test.shape[0]\n",
    "\n",
    "class BaseLayer:\n",
    "    def __init__(self, n_upper, n):\n",
    "        self.w = wb_width * np.random.randn(n_upper, n)\n",
    "        self.b = wb_width * np.random.randn(n)\n",
    "        self.h_w = np.zeros((n_upper,n)) + 1e-8\n",
    "        self.h_b = np.zeros(n) + 1e-8\n",
    "        \n",
    "    def update(self, eta):\n",
    "        self.w -= eta * self.grad_w\n",
    "        self.b -= eta * self.grad_b\n",
    "        \n",
    "        self.h_b += self.grad_b * self.grad_b\n",
    "        self.b -= eta / np.sqrt(self.h_b) * self.grad_b\n",
    "\n",
    "class MiddleLayer(BaseLayer):\n",
    "    def forward(self, x):\n",
    "        self.x = x\n",
    "        self.u = np.dot(x, self.w) + self.b\n",
    "        self.y = np.where(self.u <= 0, 0, self.u)\n",
    "        \n",
    "    def backward(self, grad_y):\n",
    "        delta = grad_y * np.where(self.u <= 0, 0, 1)\n",
    "        \n",
    "        self.grad_w = np.dot(self.x.T, delta)\n",
    "        self.grad_b = np.sum(delta, axis=0)\n",
    "        \n",
    "        self.grad_x = np.dot(delta, self.w.T)\n",
    "\n",
    "class OutputLayer(BaseLayer):\n",
    "    def forward(self, x):\n",
    "        self.x = x\n",
    "        u = np.dot(x, self.w) + self.b\n",
    "        \n",
    "        self.y = np.exp(u)/np.sum(np.exp(u), axis=1, keepdims=True)\n",
    "        \n",
    "    def backward(self, t):\n",
    "        delta = self.y - t\n",
    "        \n",
    "        self.grad_w = np.dot(self.x.T, delta)\n",
    "        self.grad_b = np.sum(delta, axis = 0)\n",
    "        self.grad_x = np.dot(delta, self.w.T)\n",
    "\n",
    "class Dropout:\n",
    "    def __init__(self, dropout_ratio):\n",
    "        self.dropout_ratio = dropout_ratio\n",
    "        \n",
    "    def forward(self, x, is_train):\n",
    "        if is_train:\n",
    "            rand = np.random.rand(x.shape[0],x.shape[1])\n",
    "            self.dropout = np.where(rand > self.dropout_ratio, 1, 0)\n",
    "            self.y = x * self.dropout\n",
    "        else:\n",
    "            self.y = (1-self.dropout_ratio)*x\n",
    "            \n",
    "    def backward(self, grad_y):\n",
    "        self.grad_x = grad_y * self.dropout\n",
    "        \n",
    "\n",
    "n_in = 4\n",
    "n_mid = 50\n",
    "n_out = 3\n",
    "\n",
    "wb_width = 0.1\n",
    "eta = 0.01\n",
    "epoch = 1000\n",
    "batch_size = 8\n",
    "interval = 100\n",
    "\n",
    "middle_layer_1 = MiddleLayer(n_in, n_mid)\n",
    "dropout_1 = Dropout(0.5)\n",
    "middle_layer_2 = MiddleLayer(n_mid, n_mid)\n",
    "dropout_2 = Dropout(0.5)\n",
    "output_layer = OutputLayer(n_mid, n_out)\n",
    "\n",
    "def forward_propagation(x, is_train=False):\n",
    "    middle_layer_1.forward(x)\n",
    "    dropout_1.forward(middle_layer_1.y, is_train)\n",
    "    middle_layer_2.forward(dropout_1.y)\n",
    "    dropout_2.forward(middle_layer_2.y, is_train)\n",
    "    output_layer.forward(dropout_2.y)\n",
    "    \n",
    "    \n",
    "def backward_propagation(t):\n",
    "    output_layer.backward(t)\n",
    "    dropout_2.backward(output_layer.grad_x)\n",
    "    middle_layer_2.backward(dropout_2.grad_x)\n",
    "    dropout_1.backward(middle_layer_2.grad_x)\n",
    "    middle_layer_1.backward(dropout_1.grad_x)\n",
    "    \n",
    "    \n",
    "def update_wb():\n",
    "    middle_layer_1.update(eta)\n",
    "    middle_layer_2.update(eta)\n",
    "    output_layer.update(eta)\n",
    "    \n",
    "#--교차 엔트로피 계산--\n",
    "def get_error(t, batch_size):\n",
    "    return -np.sum(t * np.log(output_layer.y + 1e-7))/batch_size\n",
    "\n",
    "\n",
    "train_error_x = []\n",
    "train_error_y = []\n",
    "test_error_x = []\n",
    "test_error_y = []\n",
    "\n",
    "n_batch = n_train // batch_size  #1 epoch당 배치 수\n",
    "for i in range(epoch):\n",
    "    forward_propagation(input_train, True)\n",
    "    error_train = get_error(correct_train, n_train)\n",
    "    forward_propagation(input_test)\n",
    "    error_test = get_error(correct_test, n_test)\n",
    "    \n",
    "    test_error_x.append(i)\n",
    "    test_error_y.append(error_test)\n",
    "    train_error_x.append(i)\n",
    "    train_error_y.append(error_train)\n",
    "    \n",
    "    if i%interval==0:\n",
    "        print('Epoch:'+str(i)+'/'+str(epoch),'Error_train:' + str(error_train),'Error_test:'+str(error_test))\n",
    "        \n",
    "    index_random = np.arange(n_train)\n",
    "    np.random.shuffle(index_random)\n",
    "    \n",
    "    for j in range(n_batch):\n",
    "        mb_index = index_random[j*batch_size : (j+1)*batch_size]\n",
    "        x = input_train[mb_index,:]\n",
    "        t=correct_train[mb_index,:]\n",
    "        \n",
    "        forward_propagation(x, True)\n",
    "        backward_propagation(t)\n",
    "        \n",
    "        update_wb()\n",
    "        \n",
    "plt.plot(train_error_x, train_error_y, label='Train')\n",
    "plt.plot(test_error_x, test_error_y, label='Test')\n",
    "plt.legend()\n",
    "\n",
    "plt.xlabel('Epochs')\n",
    "plt.ylabel('Error')\n",
    "\n",
    "plt.show()\n",
    "\n",
    "forward_propagation(input_train)\n",
    "count_train = np.sum(np.argmax(output_layer.y,axis=1)==np.argmax(correct_train,axis=1))\n",
    "\n",
    "forward_propagation(input_test)\n",
    "count_test = np.sum(np.argmax(output_layer.y,axis=1)==np.argmax(correct_test,axis=1))\n",
    "\n",
    "print('Accuracy Train:', str(count_train/n_train*100) + '%',\n",
    "     'Accuracy Test:', str(count_test/n_test*100) + '%')"
   ]
  }
 ],
 "metadata": {
  "kernelspec": {
   "display_name": "Python 3",
   "language": "python",
   "name": "python3"
  },
  "language_info": {
   "codemirror_mode": {
    "name": "ipython",
    "version": 3
   },
   "file_extension": ".py",
   "mimetype": "text/x-python",
   "name": "python",
   "nbconvert_exporter": "python",
   "pygments_lexer": "ipython3",
   "version": "3.7.4"
  }
 },
 "nbformat": 4,
 "nbformat_minor": 2
}
