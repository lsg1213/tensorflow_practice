{
 "cells": [
  {
   "cell_type": "markdown",
   "metadata": {},
   "source": [
    "# Practice1. KNN"
   ]
  },
  {
   "cell_type": "code",
   "execution_count": null,
   "metadata": {},
   "outputs": [],
   "source": [
    "import numpy as np\n",
    "import random\n",
    "import os\n",
    "import matplotlib.pyplot as plt\n",
    "import _pickle as pickle\n",
    "import time\n",
    "\n",
    "# set default plot options\n",
    "%matplotlib inline\n",
    "plt.rcParams['figure.figsize'] = (10.0, 8.0)\n",
    "plt.rcParams['image.interpolation'] = 'nearest'\n",
    "plt.rcParams['image.cmap'] = 'gray'"
   ]
  },
  {
   "cell_type": "markdown",
   "metadata": {},
   "source": [
    "## Data preprocessing"
   ]
  },
  {
   "cell_type": "code",
   "execution_count": null,
   "metadata": {},
   "outputs": [],
   "source": [
    "from utils import get_CIFAR10_data"
   ]
  },
  {
   "cell_type": "code",
   "execution_count": null,
   "metadata": {},
   "outputs": [],
   "source": [
    "X_tr, Y_tr, X_te, Y_te, mean_img = get_CIFAR10_data()\n",
    "print ('Train data shape : %s,  Train labels shape : %s' % (X_tr.shape, Y_tr.shape))\n",
    "print ('Test data shape : %s,  Test labels shape : %s' % (X_te.shape, Y_te.shape))"
   ]
  },
  {
   "cell_type": "markdown",
   "metadata": {},
   "source": [
    "## Training image 시각화"
   ]
  },
  {
   "cell_type": "code",
   "execution_count": null,
   "metadata": {},
   "outputs": [],
   "source": [
    "class_names = ['airplane','automobile','bird','cat','deer',\n",
    "               'dog','frog','horse','ship','truck']\n",
    "\n",
    "images_index = np.int32(np.round(np.random.rand(18,)*10000,0))\n",
    "\n",
    "fig, axes = plt.subplots(3, 6, figsize=(18, 6),\n",
    "                         subplot_kw={'xticks': [], 'yticks': []})\n",
    "\n",
    "fig.subplots_adjust(hspace=0.3, wspace=0.05)\n",
    "\n",
    "for ax, idx in zip(axes.flat, images_index):\n",
    "    img = (X_tr[idx,:3072].reshape(32, 32, 3) + mean_img.reshape(32, 32, 3))\n",
    "    ax.imshow(img)\n",
    "    ax.set_title(class_names[Y_tr[idx]])\n",
    "    "
   ]
  },
  {
   "cell_type": "markdown",
   "metadata": {},
   "source": [
    "# 1. Euclidean Distance"
   ]
  },
  {
   "cell_type": "code",
   "execution_count": null,
   "metadata": {},
   "outputs": [],
   "source": [
    "def getEuclideanDist(X_tr, X_te_instance):\n",
    "    \"\"\"\n",
    "    getEuclideanDist 함수를 생성하라.\n",
    "    하나의 X_te_instace와, Training dataset(X_tr) 간의 euclidean distance를 구하는 함수\n",
    "    \n",
    "    Inputs : \n",
    "        - X_tr : (N, D) 차원의 벡터(전체 Training data)\n",
    "        - X_te_instance : (1, D) 차원의 벡터 (하나의 Test data)\n",
    "    \n",
    "    Output : \n",
    "        - dist_arr : N개의 distance\n",
    "    \n",
    "    Hint :\n",
    "        - Numpy의 linalg.norm() 함수를 참고하여 사용하시오.\n",
    "        \n",
    "    \"\"\"\n",
    "    \n",
    "    dist_arr = []\n",
    "    length = X_tr.shape[0]\n",
    "    \n",
    "    #########################################################################################################\n",
    "    #------------------------------------------WRITE YOUR CODE----------------------------------------------#\n",
    "\n",
    "    #-----------------------------------------END OF YOUR CODE----------------------------------------------#\n",
    "    #########################################################################################################\n",
    "    \n",
    "    return dist_arr"
   ]
  },
  {
   "cell_type": "code",
   "execution_count": null,
   "metadata": {},
   "outputs": [],
   "source": [
    "temp_X_tr = np.array([[1,2,3]])\n",
    "temp_X_te_instance = np.array([3,2,1])\n",
    "\n",
    "print (temp_X_tr.shape)\n",
    "print (temp_X_te_instance.shape)"
   ]
  },
  {
   "cell_type": "code",
   "execution_count": null,
   "metadata": {},
   "outputs": [],
   "source": [
    "print (getEuclideanDist(temp_X_tr, temp_X_te_instance))"
   ]
  },
  {
   "cell_type": "markdown",
   "metadata": {},
   "source": [
    "반드시 [2.8284271247461903] 와 유사한 값을 얻어야 함."
   ]
  },
  {
   "cell_type": "code",
   "execution_count": null,
   "metadata": {},
   "outputs": [],
   "source": [
    "temp_X_tr = np.array([[1,2,3],[4,5,6],[7,8,9]])\n",
    "temp_X_te_instance = np.array([10,9,8])\n",
    "\n",
    "print (temp_X_tr.shape)\n",
    "print (temp_X_te_instance.shape)"
   ]
  },
  {
   "cell_type": "code",
   "execution_count": null,
   "metadata": {},
   "outputs": [],
   "source": [
    "print (getEuclideanDist(temp_X_tr, temp_X_te_instance))"
   ]
  },
  {
   "cell_type": "markdown",
   "metadata": {},
   "source": [
    "반드시 [12.449899597988733, 7.483314773547883, 3.3166247903554] 와 유사한 값을 얻어야 함."
   ]
  },
  {
   "cell_type": "markdown",
   "metadata": {},
   "source": [
    "# 2. K-nearest neighbor"
   ]
  },
  {
   "cell_type": "code",
   "execution_count": null,
   "metadata": {},
   "outputs": [],
   "source": [
    "def getKNN(distances, Y_tr, k):\n",
    "    \"\"\"\n",
    "    getKNN 함수를 생성하라.\n",
    "    N개의 distance 중에서 가장 가까운 k개의 Y_tr(Training data의 Label)을 구하는 함수.\n",
    "    \n",
    "    Inputs : \n",
    "        - distances : N개의 distance\n",
    "        - Y_tr : (N, 1) 차원의 벡터 (전체 Training data의 Label)\n",
    "        - k : KNN에서 사용할 k값\n",
    "    \n",
    "    Output : \n",
    "        - neighbor : 가장 가까운 k개의 Training data의 Label\n",
    "        \n",
    "    Hint :\n",
    "        - Numpy의 argpartition(), take() 함수를 참고하여 사용하시오.\n",
    "        \n",
    "    \"\"\"\n",
    "    \n",
    "    neighbors = None\n",
    "    \n",
    "    #########################################################################################################\n",
    "    #------------------------------------------WRITE YOUR CODE----------------------------------------------#\n",
    "\n",
    "    #-----------------------------------------END OF YOUR CODE----------------------------------------------#\n",
    "    #########################################################################################################\n",
    "    \n",
    "    return neighbors"
   ]
  },
  {
   "cell_type": "code",
   "execution_count": null,
   "metadata": {},
   "outputs": [],
   "source": [
    "temp_X_tr = np.array([[1,2,3],[3,4,5],[5,6,7],[8,9,10],[10,8,9],[11,12,13],[13,14,15]])\n",
    "temp_X_te_instance = np.array([10,9,8])\n",
    "\n",
    "print (temp_X_tr.shape)\n",
    "print (temp_X_te_instance.shape)"
   ]
  },
  {
   "cell_type": "code",
   "execution_count": null,
   "metadata": {},
   "outputs": [],
   "source": [
    "distances = getEuclideanDist(temp_X_tr, temp_X_te_instance)\n",
    "print (distances)"
   ]
  },
  {
   "cell_type": "code",
   "execution_count": null,
   "metadata": {},
   "outputs": [],
   "source": [
    "temp_Y_tr = np.array([1,2,3,4,4,5,6])\n",
    "k = 3\n",
    "print (getKNN(distances, temp_Y_tr, k))"
   ]
  },
  {
   "cell_type": "markdown",
   "metadata": {},
   "source": [
    "반드시 [4 4 3] 와 같은 값을 얻어야 함."
   ]
  },
  {
   "cell_type": "markdown",
   "metadata": {},
   "source": [
    "# 3. getPredictedLabel"
   ]
  },
  {
   "cell_type": "code",
   "execution_count": null,
   "metadata": {},
   "outputs": [],
   "source": [
    "def getPredictedLabel(neighbors):\n",
    "    \"\"\"\n",
    "    getPredictedLabel 함수를 생성하라.\n",
    "    k개의 가장 가까운 training data의 label을 이용하여 Predicted label을 반환하는 함수.\n",
    "    k개의 neighbors들 중에 가장 많은 값을 predicted label로 선택하라.\n",
    "    \n",
    "    Inputs : \n",
    "        - neighbors : 가장 가까운 k개의 Training data의 Label\n",
    "    \n",
    "    Output : \n",
    "        - predicted_label : neighbor를 이용하여 결정된 1개의 predicted label\n",
    "    \n",
    "    Hint : \n",
    "        - Numpy의 bincount() 함수를 참고하여 사용하시오.\n",
    "        \n",
    "    \"\"\"\n",
    "    \n",
    "    predicted_label = None\n",
    "    \n",
    "    #########################################################################################################\n",
    "    #------------------------------------------WRITE YOUR CODE----------------------------------------------#\n",
    "\n",
    "    #-----------------------------------------END OF YOUR CODE----------------------------------------------#\n",
    "    #########################################################################################################\n",
    "    \n",
    "    return predicted_label"
   ]
  },
  {
   "cell_type": "code",
   "execution_count": null,
   "metadata": {},
   "outputs": [],
   "source": [
    "temp_X_tr = np.array([[1,2,3],[3,4,5],[5,6,7],[8,9,10],[10,8,9],[11,12,13],[13,14,15]])\n",
    "temp_X_te_instance = np.array([10,9,8])\n",
    "\n",
    "print (temp_X_tr.shape)\n",
    "print (temp_X_te_instance.shape)"
   ]
  },
  {
   "cell_type": "code",
   "execution_count": null,
   "metadata": {},
   "outputs": [],
   "source": [
    "distances = getEuclideanDist(temp_X_tr, temp_X_te_instance)\n",
    "temp_Y_tr = np.array([1,2,3,4,4,5,6])\n",
    "k = 3\n",
    "neighbors = getKNN(distances, temp_Y_tr, k)\n",
    "predicted_label = getPredictedLabel(neighbors)"
   ]
  },
  {
   "cell_type": "code",
   "execution_count": null,
   "metadata": {},
   "outputs": [],
   "source": [
    "print (predicted_label)"
   ]
  },
  {
   "cell_type": "markdown",
   "metadata": {},
   "source": [
    "반드시 4 와 같은 값을 얻어야 함."
   ]
  },
  {
   "cell_type": "markdown",
   "metadata": {},
   "source": [
    "# 4. getKNNAccuracy"
   ]
  },
  {
   "cell_type": "code",
   "execution_count": null,
   "metadata": {},
   "outputs": [],
   "source": [
    "def getKNNAccuray(k,X_tr,Y_tr,X_te,Y_te):\n",
    "    \"\"\"\n",
    "    getKNNAccuray 함수를 생성하라.\n",
    "    training data들을 이용하여 각각의 test data의 KNN을 이용한 accuracy를 구하는 함수.\n",
    "    위 과정에서 사용한 getEuclideanDist(), getKNN(), getPredictedLabel() 함수를 사용하여 구현하라.\n",
    "    for문을 이용하여 각각의 test data에 순차적으로 접근하여 predicted label을 구하라.\n",
    "    \n",
    "    Inputs : \n",
    "        - k : KNN에서 사용할 k값\n",
    "        - X_tr : training dataset의 input data\n",
    "        - Y_tr : training dataset의 label data\n",
    "        - X_te : test dataset의 input data\n",
    "        - Y_te : test dataset의 label data\n",
    "        \n",
    "    Output : \n",
    "        - accuracy : KNN을 이용했을 때 전체 test dataset의 accuracy\n",
    "        \n",
    "    \"\"\"\n",
    "    \n",
    "    predicted_label_arr = []\n",
    "    accuracy = None\n",
    "    \n",
    "    length = X_te.shape[0]\n",
    "    \n",
    "    #########################################################################################################\n",
    "    #------------------------------------------WRITE YOUR CODE----------------------------------------------#\n",
    "\n",
    "    #-----------------------------------------END OF YOUR CODE----------------------------------------------#\n",
    "    #########################################################################################################\n",
    "    \n",
    "    return accuracy"
   ]
  },
  {
   "cell_type": "code",
   "execution_count": null,
   "metadata": {},
   "outputs": [],
   "source": [
    "print (getKNNAccuray(20, X_tr, Y_tr, X_te, Y_te))"
   ]
  },
  {
   "cell_type": "markdown",
   "metadata": {},
   "source": [
    "반드시 0.297 와 같은 값을 얻어야 함."
   ]
  },
  {
   "cell_type": "markdown",
   "metadata": {},
   "source": [
    "# 5. 다양한 K에 대해 결과그래프 그리기"
   ]
  },
  {
   "cell_type": "markdown",
   "metadata": {},
   "source": [
    "#### 다양한 k에 대한 KNN의 결과를 얻고 이에대한 Graph를 그려서 k값에 따른 Accuracy의 변화를 확인하기\n",
    "#### 모든 결과를 얻는데 다소 시간이 걸릴 수 있습니다. (10~20분)"
   ]
  },
  {
   "cell_type": "code",
   "execution_count": null,
   "metadata": {},
   "outputs": [],
   "source": [
    "accuracy_k_arr = []\n",
    "k_arr = [1,3,5,7,9,11,13,25,50,100]\n",
    "\n",
    "for k in (k_arr):\n",
    "    accuracy_k_arr.append(getKNNAccuray(k, X_tr, Y_tr, X_te, Y_te))"
   ]
  },
  {
   "cell_type": "code",
   "execution_count": null,
   "metadata": {},
   "outputs": [],
   "source": [
    "print (accuracy_k_arr)"
   ]
  },
  {
   "cell_type": "code",
   "execution_count": null,
   "metadata": {},
   "outputs": [],
   "source": [
    "import matplotlib.pyplot as plt\n",
    "plt.figure(figsize=[10,8])\n",
    "plt.plot(accuracy_k_arr,linewidth=2)\n",
    "plt.xticks(np.arange(10),k_arr)\n",
    "plt.ylabel('KNN Accuracy',fontsize=15)\n",
    "plt.xlabel('k',fontsize=15)\n",
    "plt.ylim([0.25,0.3])\n",
    "plt.show()"
   ]
  },
  {
   "cell_type": "code",
   "execution_count": null,
   "metadata": {},
   "outputs": [],
   "source": []
  },
  {
   "cell_type": "code",
   "execution_count": null,
   "metadata": {},
   "outputs": [],
   "source": []
  }
 ],
 "metadata": {
  "kernelspec": {
   "display_name": "Python 3",
   "language": "python",
   "name": "python3"
  },
  "language_info": {
   "codemirror_mode": {
    "name": "ipython",
    "version": 3
   },
   "file_extension": ".py",
   "mimetype": "text/x-python",
   "name": "python",
   "nbconvert_exporter": "python",
   "pygments_lexer": "ipython3",
   "version": "3.6.7"
  }
 },
 "nbformat": 4,
 "nbformat_minor": 1
}
