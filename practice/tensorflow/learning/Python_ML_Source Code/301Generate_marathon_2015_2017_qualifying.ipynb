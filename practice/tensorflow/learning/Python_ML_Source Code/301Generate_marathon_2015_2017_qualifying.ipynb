{
 "cells": [
  {
   "cell_type": "code",
   "execution_count": 1,
   "metadata": {},
   "outputs": [],
   "source": [
    "# Import pandas as a alias 'pd'\n",
    "import pandas as pd\n",
    "\n",
    "# Load the CSV files \"marathon_qualifying_time.csv\" under \"data\" folder\n",
    "marathon_qualifying_time = pd.read_csv(\"./data/marathon_qualifying_time.csv\")\n",
    "\n",
    "# Drop unnecessary columns \n",
    "qualifying_time = pd.DataFrame(marathon_qualifying_time,columns=['F',  'M'])\n",
    "# Import Numpy Library and call it as np\n",
    "import numpy as np\n",
    "\n",
    "# Convert using pandas to_timedelta method\n",
    "qualifying_time['F'] = pd.to_timedelta(qualifying_time['F'])\n",
    "qualifying_time['M'] = pd.to_timedelta(qualifying_time['M'])\n",
    "\n",
    "# Convert time to seconds value using astype method\n",
    "qualifying_time['F'] = qualifying_time['F'].astype('m8[s]').astype(np.int64)\n",
    "qualifying_time['M'] = qualifying_time['M'].astype('m8[s]').astype(np.int64)\n",
    "\n",
    "# Load the CSV\n",
    "# files \"marathon_results_2015 ~ 2017.csv\" under \"data\" folder\n",
    "marathon_2015_2017 = pd.read_csv(\"./data/marathon_2015_2017.csv\")\n",
    "marathon_2015_2017['M/F'] = marathon_2015_2017['M/F'].map({'M': 1, 'F': 0})\n",
    "\n",
    "# Add qualifying column with fixed string 2017\n",
    "qualifying_time_list = qualifying_time.values.tolist()\n",
    "# Define function name to_seconds\n",
    "marathon_2015_2017_qualifying = pd.DataFrame(columns=['M/F',  'Age',  'Pace',  'Official Time', 'Year', 'qualifying'])\n",
    "for index, record in marathon_2015_2017.iterrows():\n",
    "    qualifying_standard = qualifying_time_list[record.Age-18][record['M/F']]\n",
    "    qualifying_status = 1\n",
    "    if (record['Official Time'] > qualifying_standard): \n",
    "        qualifying_status = 0\n",
    "    marathon_2015_2017_qualifying = marathon_2015_2017_qualifying.append({'M/F' : record['M/F'],\n",
    "                                                                          'Age' : record['Age'],\n",
    "                                                                          'Pace' : record['Pace'],\n",
    "                                                                          'Official Time' : record['Official Time'],\n",
    "                                                                          'Year' : record['Year'],\n",
    "                                                                          'qualifying' : qualifying_status\n",
    "                                                                          },\n",
    "                                                                        ignore_index=True)\n",
    "# Save to CSV file \"marathon_2015_2017.csv\"\n",
    "marathon_2015_2017_qualifying.to_csv(\"./data/marathon_2015_2017_qualifying.csv\", index = None, header=True)\n"
   ]
  }
 ],
 "metadata": {
  "anaconda-cloud": {},
  "kernelspec": {
   "display_name": "Python 3",
   "language": "python",
   "name": "python3"
  },
  "language_info": {
   "codemirror_mode": {
    "name": "ipython",
    "version": 3
   },
   "file_extension": ".py",
   "mimetype": "text/x-python",
   "name": "python",
   "nbconvert_exporter": "python",
   "pygments_lexer": "ipython3",
   "version": "3.7.4"
  }
 },
 "nbformat": 4,
 "nbformat_minor": 1
}
